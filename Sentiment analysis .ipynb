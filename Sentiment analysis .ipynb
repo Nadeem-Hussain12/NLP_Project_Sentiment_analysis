{
 "cells": [
  {
   "cell_type": "code",
   "execution_count": 6,
   "id": "30d6ab24",
   "metadata": {},
   "outputs": [],
   "source": [
    "#!pip install nltk\n"
   ]
  },
  {
   "cell_type": "code",
   "execution_count": 1,
   "id": "75e8ed5d",
   "metadata": {},
   "outputs": [],
   "source": [
    "import nltk\n",
    "from nltk.sentiment.vader import SentimentIntensityAnalyzer"
   ]
  },
  {
   "cell_type": "code",
   "execution_count": 2,
   "id": "6a1ae2cd",
   "metadata": {},
   "outputs": [
    {
     "name": "stderr",
     "output_type": "stream",
     "text": [
      "[nltk_data] Downloading package vader_lexicon to C:\\Users\\Farman\n",
      "[nltk_data]     vcds\\AppData\\Roaming\\nltk_data...\n",
      "[nltk_data]   Package vader_lexicon is already up-to-date!\n"
     ]
    },
    {
     "data": {
      "text/plain": [
       "True"
      ]
     },
     "execution_count": 2,
     "metadata": {},
     "output_type": "execute_result"
    }
   ],
   "source": [
    "# Download VADER lexicon if not already downloaded\n",
    "nltk.download(\"vader_lexicon\")"
   ]
  },
  {
   "cell_type": "code",
   "execution_count": 3,
   "id": "e90db934",
   "metadata": {},
   "outputs": [],
   "source": [
    "# Create a SentimentIntensityAnalyzer object\n",
    "analyzer = SentimentIntensityAnalyzer()\n",
    "\n",
    "def analyze_sentiment(text):\n",
    "    # Calculate sentiment scores\n",
    "    sentiment_scores = analyzer.polarity_scores(text)\n",
    "\n",
    "    # Interpret sentiment scores\n",
    "    if sentiment_scores['compound'] >= 0.05:\n",
    "        sentiment = 'Positive'\n",
    "    elif sentiment_scores['compound'] <= -0.05:\n",
    "        sentiment = 'Negative'\n",
    "    else:\n",
    "        sentiment = 'Neutral'\n",
    "\n",
    "    return sentiment, sentiment_scores"
   ]
  },
  {
   "cell_type": "code",
   "execution_count": 5,
   "id": "923cd4bc",
   "metadata": {},
   "outputs": [
    {
     "name": "stdout",
     "output_type": "stream",
     "text": [
      "Sentiment:  Negative\n",
      "Sentiment Scores: {'neg': 0.638, 'neu': 0.362, 'pos': 0.0, 'compound': -0.7943}\n"
     ]
    }
   ],
   "source": [
    "# Example usage:\n",
    "if __name__ == \"__main__\":\n",
    "    #text = \"I love this product! It's amazing.\"\n",
    "    text = \"I hate this product! It's not amazing.\"\n",
    "    sentiment, sentiment_scores = analyze_sentiment(text)\n",
    "    print(\"Sentiment: \", sentiment)\n",
    "    print(\"Sentiment Scores:\", sentiment_scores)\n"
   ]
  },
  {
   "cell_type": "code",
   "execution_count": null,
   "id": "e83c6a29",
   "metadata": {},
   "outputs": [],
   "source": []
  },
  {
   "cell_type": "code",
   "execution_count": null,
   "id": "8eade1ae",
   "metadata": {},
   "outputs": [],
   "source": []
  }
 ],
 "metadata": {
  "kernelspec": {
   "display_name": "Python 3",
   "language": "python",
   "name": "python3"
  },
  "language_info": {
   "codemirror_mode": {
    "name": "ipython",
    "version": 3
   },
   "file_extension": ".py",
   "mimetype": "text/x-python",
   "name": "python",
   "nbconvert_exporter": "python",
   "pygments_lexer": "ipython3",
   "version": "3.8.8"
  }
 },
 "nbformat": 4,
 "nbformat_minor": 5
}
